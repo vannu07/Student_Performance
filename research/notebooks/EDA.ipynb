{
 "cells": [
  {
   "cell_type": "markdown",
   "metadata": {},
   "source": [
    "# Student Performance - Exploratory Data Analysis\n",
    "\n",
    "This notebook contains the exploratory data analysis for the student performance prediction project."
   ]
  },
  {
   "cell_type": "code",
   "execution_count": null,
   "metadata": {},
   "source": [
    "import pandas as pd\n",
    "import numpy as np\n",
    "import matplotlib.pyplot as plt\n",
    "import seaborn as sns\n",
    "\n",
    "# Load the data\n",
    "df = pd.read_csv('../../artifacts/data_ingestion/data.csv')\n",
    "\n",
    "# Display basic information\n",
    "print(\"Dataset Shape:\", df.shape)\n",
    "print(\"\\nColumn Names:\")\n",
    "print(df.columns.tolist())\n",
    "\n",
    "# Display first few rows\n",
    "df.head()"
   ]
  },
  {
   "cell_type": "code",
   "execution_count": null,
   "metadata": {},
   "source": [
    "# Statistical summary\n",
    "df.describe()"
   ]
  },
  {
   "cell_type": "code",
   "execution_count": null,
   "metadata": {},
   "source": [
    "# Check for missing values\n",
    "print(\"Missing Values:\")\n",
    "print(df.isnull().sum())\n",
    "\n",
    "# Data types\n",
    "print(\"\\nData Types:\")\n",
    "print(df.dtypes)"
   ]
  },
  {
   "cell_type": "code",
   "execution_count": null,
   "metadata": {},
   "source": [
    "# Visualizations\n",
    "plt.figure(figsize=(15, 10))\n",
    "\n",
    "# Distribution of math scores\n",
    "plt.subplot(2, 3, 1)\n",
    "sns.histplot(df['math_score'], kde=True)\n",
    "plt.title('Distribution of Math Scores')\n",
    "\n",
    "# Gender vs Math Score\n",
    "plt.subplot(2, 3, 2)\n",
    "sns.boxplot(x='gender', y='math_score', data=df)\n",
    "plt.title('Math Score by Gender')\n",
    "\n",
    "# Race/Ethnicity vs Math Score\n",
    "plt.subplot(2, 3, 3)\n",
    "sns.boxplot(x='race_ethnicity', y='math_score', data=df)\n",
    "plt.title('Math Score by Race/Ethnicity')\n",
    "plt.xticks(rotation=45)\n",
    "\n",
    "# Parental Education vs Math Score\n",
    "plt.subplot(2, 3, 4)\n",
    "sns.boxplot(x='parental_level_of_education', y='math_score', data=df)\n",
    "plt.title('Math Score by Parental Education')\n",
    "plt.xticks(rotation=45)\n",
    "\n",
    "# Lunch vs Math Score\n",
    "plt.subplot(2, 3, 5)\n",
    "sns.boxplot(x='lunch', y='math_score', data=df)\n",
    "plt.title('Math Score by Lunch Type')\n",
    "\n",
    "# Test Preparation vs Math Score\n",
    "plt.subplot(2, 3, 6)\n",
    "sns.boxplot(x='test_preparation_course', y='math_score', data=df)\n",
    "plt.title('Math Score by Test Preparation')\n",
    "\n",
    "plt.tight_layout()\n",
    "plt.show()"
   ]
  },
  {
   "cell_type": "code",
   "execution_count": null,
   "metadata": {},
   "source": [
    "# Correlation matrix\n",
    "plt.figure(figsize=(10, 8))\n",
    "correlation_matrix = df[['math_score', 'reading_score', 'writing_score']].corr()\n",
    "sns.heatmap(correlation_matrix, annot=True, cmap='coolwarm', center=0)\n",
    "plt.title('Correlation Matrix of Scores')\n",
    "plt.show()"
   ]
  }
 ],
 "metadata": {
  "kernelspec": {
   "display_name": "Python 3",
   "language": "python",
   "name": "python3"
  },
  "language_info": {
   "codemirror_mode": {
    "name": "ipython",
    "version": 3
   },
   "file_extension": ".py",
   "mimetype": "text/x-python",
   "name": "python",
   "nbconvert_exporter": "python",
   "pygments_lexer": "ipython3",
   "version": "3.9.0"
  }
 },
 "nbformat": 4,
 "nbformat_minor": 4
}
